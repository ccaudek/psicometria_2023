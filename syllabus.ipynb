{
 "cells": [
  {
   "attachments": {},
   "cell_type": "markdown",
   "metadata": {},
   "source": [
    "# Syllabus\n",
    "\n",
    "## 📖 Descrizione sintetica \n",
    "\n",
    "L'insegnamento di *Psicometria* (B000286) ha come obiettivo fornire agli studenti le conoscenze fondamentali di statistica, analisi dei dati e metodologia della ricerca, che rappresentano una parte centrale della formazione professionale di uno psicologo. Il corso non si limita a una descrizione teorica degli argomenti, poiché la comprensione di questi concetti richiede l'applicazione pratica in contesti concreti. Pertanto, gli argomenti del corso vengono accompagnati da esercitazioni pratiche e laboratori didattici.\n",
    "\n",
    "Per condurre queste analisi guidate dei dati, sarà necessario utilizzare un computer e un linguaggio di programmazione per l'analisi statistica. In questo insegnamento, il linguaggio Python e il linguaggio di programmazione probabilistico PyMC saranno utilizzati per effettuare le analisi statistiche. Grazie all'uso di questi strumenti, gli studenti saranno in grado di applicare i concetti teorici appresi in modo pratico, acquisendo competenze utili per la loro futura carriera professionale come psicologi.\n",
    "\n",
    "## 🎓 Obiettivi formativi\n",
    "\n",
    "L'obiettivo del corso è di fornire agli studenti una serie di conoscenze e competenze fondamentali per la misurazione e l'analisi dei dati psicologici. In particolare, il corso copre i seguenti argomenti:\n",
    "\n",
    "- La comprensione dei concetti base della misurazione psicologica.\n",
    "- La capacità di calcolare, interpretare e comunicare i principali indici di tendenza centrale, di dispersione e di associazione tra variabili.\n",
    "- L'acquisizione di familiarità con argomenti avanzati come l'approccio Bayesiano.\n",
    "- L'apprendimento degli aspetti di base del linguaggio di programmazione Python. La conoscenza di Python rappresenta un'importante aggiunta al curriculum di uno psicologo, e costituisce uno strumento fondamentale per molti approfondimenti successivi, compreso l'ambito dello sviluppo e della validazione dei reattivi psicologici.\n",
    "- La capacità di interpretare la sezione \"Risultati\" delle pubblicazioni scientifiche di tipo psicologico.\n",
    "- La capacità di replicare alcune delle analisi dei dati presentate in recenti pubblicazioni scientifiche di tipo psicologico.\n",
    "- La capacità di produrre un report scritto che riassume i risultati quantitativi di una ricerca psicologica.\n",
    "- La capacità di fare una presentazione orale dei risultati di un progetto di analisi di dati psicologici.\n",
    "- Lo sviluppo delle competenze necessarie per lavorare in team.\n",
    "\n",
    "In sintesi, il corso mira a fornire agli studenti le competenze necessarie per comprendere e analizzare i dati psicologici, comunicare i risultati in modo efficace e lavorare in modo collaborativo. Tutto ciò rappresenta un importante contributo alla formazione di uno psicologo completo e competente.\n",
    "\n",
    "## ✔ Prerequisiti\n",
    "\n",
    "Non sono richieste conoscenze preliminari specifiche, oltre a quelle acquisite nella scuola superiore. Tutte le informazioni necessarie per partecipare attivamente alle lezioni e superare l'esame saranno fornite attraverso il materiale didattico disponibile e le esercitazioni guidate.\n",
    "\n",
    "## ℹ️ Ulteriori informazioni\n",
    "\n",
    "### Ricevimento\n",
    "\n",
    "In questo periodo storico eccezionale, la diffusione del COVID-19 rappresenta ancora una preoccupazione per tutti. Per tale ragione, durante le lezioni in presenza, adotterò le seguenti precauzioni per garantire la mia e la vostra sicurezza: lascerò l'aula immediatamente dopo la fine della lezione. Pur comprendendo che potreste desiderare di chiedermi delucidazioni o di discutere gli argomenti trattati durante la pausa, riteniamo opportuno adattarci alla situazione attuale. Resto tuttavia a vostra disposizione e facilmente raggiungibile tramite Moodle. In quanto docente impegnato con un elevato numero di studenti, vi prego di non contattarmi via e-mail, ma di utilizzare Moodle per organizzare eventuali incontri di gruppo, durante i quali potremo interagire serenamente attraverso Google Meet o Webex.\n",
    "\n",
    "### Norme relative all'uso della posta elettronica\n",
    "\n",
    "Generalmente rispondo tempestivamente alle e-mail degli studenti. Tuttavia, ricevo frequentemente richieste di informazioni che sono già disponibili sul sito web e preferirei non dover rispondere ripetutamente. Vi prego quindi di *leggere attentamente le informazioni* fornite su questo sito web prima di contattarmi. Per aiutarvi, di seguito ribadisco alcuni punti importanti.\n",
    "\n",
    "1. Il programma d'esame, le modalità d'esame e i testi da utilizzare per la preparazione dell'esame per gli studenti non frequentanti sono forniti in questo sito web.\n",
    "2. Per organizzare un incontro con me via Google Meet, vi prego di inviarmi un messaggio personale tramite Moodle. Preferisco organizzare incontri di gruppo, ma se necessario, potremo organizzare un incontro \"privato\".\n",
    "\n",
    "### Politica sulla disonestà accademica\n",
    "\n",
    "L'integrità accademica è un aspetto molto importante per me e non tollererò alcun comportamento disonesto. Vi prego di evitare di commettere atti come:\n",
    "\n",
    "- utilizzare aiuti non autorizzati durante i test in classe o durante l'esame finale;\n",
    "- copiare intenzionalmente o involontariamente il linguaggio, la struttura o le idee di un'altra persona senza attribuirne correttamente la fonte.\n",
    "\n",
    "### Politica sulle disabilità\n",
    "\n",
    "Nel caso in cui uno studente presenti bisogni educativi speciali, lo invito a comunicarmelo *in modo confidenziale* al più presto possibile. Garantisco il rispetto del diritto alla privacy in materia, senza eccezioni.\n",
    "\n",
    "### Considerazioni finali\n",
    "\n",
    "Come per ogni corso, il successo degli studenti dipende principalmente dal loro impegno durante il semestre. Chiedere aiuto ai compagni di classe e a me è essenziale: non abbiate paura di fare domande su ciò che non avete capito o di verificare la vostra comprensione di un argomento.\n"
   ]
  }
 ],
 "metadata": {
  "kernelspec": {
   "display_name": "Python 3",
   "language": "python",
   "name": "python3"
  },
  "language_info": {
   "name": "python",
   "version": "3.10.9 (main, Jan 21 2023, 06:22:18) [Clang 14.0.0 (clang-1400.0.29.202)]"
  },
  "orig_nbformat": 4,
  "vscode": {
   "interpreter": {
    "hash": "2fb22ef73048ab480306a3a8971dd9d9ae74918bef9be9e93ea3e01644b9825e"
   }
  }
 },
 "nbformat": 4,
 "nbformat_minor": 2
}
