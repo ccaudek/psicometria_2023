{
 "cells": [
  {
   "attachments": {},
   "cell_type": "markdown",
   "metadata": {},
   "source": [
    "# Istruzioni E-tivity\n",
    "\n",
    "Il laboratorio didattico consentirà agli studenti di applicare le conoscenze apprese e di usare il loro know-how per portare a termine un progetto di analisi di dati psicologici. \n",
    "\n",
    "- Il primo obiettivo del laboratorio didattico è la produzione di un elaborato nel quale, a partire dai dati reali messi a disposizione dagli autori di recenti pubblicazioni psicologiche, si ripercorre il percorso che, partendo dall’ipotesi della ricerca e attraverso l’analisi dei dati, conduce alle conclusioni dello studio.  \n",
    "- Il secondo obiettivo è quello di contribuire a sviluppare le competenze comunicativo-relazionali che rendono possibile sia una presentazione orale dei risultati sia un'interazione proficua e costruttiva con gli altri membri del gruppo.\n",
    "\n",
    "## Modalità di svolgimento\n",
    "\n",
    "Il laboratorio didattico prevede una serie di incontri Meet che si svolgeranno sia collettivamente, a lezione, sia separatamente per i vari gruppi, sotto la supervisione del docente. Il resto si svolgerà tramite incontri organizzati autonomamente dai partecipanti e online tramite il Forum Discord.\n",
    "\n",
    "Allo studente si chiede quanto segue.\n",
    "\n",
    "1. Lettura dell'articolo messo a disposizione che motiva il lavoro. Si presti particolare attenzione ai seguenti punti. \n",
    "    - Qual è l’ipotesi della ricerca? \n",
    "    - Che relazione c’è tra l’ipotesi di ricerca e la letteratura di riferimento? Qual è la *lacuna* nella letteratura che gli autori vogliono affrontare?\n",
    "    - Quale metodologia viene usata per raccogliere i dati necessari a verificare l’ipotesi che motiva lo studio? \n",
    "    - Come vengono interpretati i risultati dell’analisi statistica e perché tali risultati sono rilevanti per la verifica dell’ipotesi della ricerca? \n",
    "    - Quali conclusioni traggono gli autori dai risultati ottenuti? \n",
    "    - In che modo i risultati ottenuti contribuiscono ad avanzare le nostre conoscenze sul fenomeno considerato?\n",
    "\n",
    "2. Svolgimento delle attività seguenti.\n",
    "    - attività n. 1: lavoro di gruppo.\n",
    "    - attività n. 2: produzione di un elaborato.\n",
    "\n",
    "## Composizione e attività dei gruppi\n",
    "\n",
    "Le attività del laboratorio didattico si svolgeranno in gruppo. \n",
    "\n",
    "Per iscrivervi ad un gruppo, potete usare il seguente [link](https://docs.google.com/spreadsheets/d/1PEeX5l2MOkdOE79GdXw1D_qwC5oEh062/edit?usp=sharing&ouid=101212012719722949894&rtpof=true&sd=true).\n",
    "\n",
    "Ogni gruppo dovrà essere costituito da un minimo di 20 e un massimo di 30 studenti. Ciascun gruppo verrà identificato dal cognome del primo autore dell'articolo di riferimento. I gruppi verranno formati entro la fine della seconda settimana di lezione. Ogni gruppo avrà un referente che avrà il ruolo di organizzare gli incontri periodici del gruppo e di interfacciarsi con me per eventuali comunicazioni e aggiornamenti. Ogni studente frequentante deve far parte di un gruppo. Per iscriversi ad un gruppo, è necessario iscriversi ad uno dei gruppi Discord che sono stati predisposti. Si seguirà un logica *first come first served*: se un gruppo ha già 30 partecipanti, non è più possibile iscriversi a quel gruppo (tecnicamente si può fare, ma l'iscrizione non sarà considerata valida). I gruppi sono definiti dall'articolo di riferimento. Gli articoli proposti sono elencati su Moodle.\n",
    "\n",
    "Vi consiglio di fissare un incontro settimanale telematico per discutere sia gli esercizi WarmUp, sia i progressi del progetto di gruppo.\n",
    "\n",
    "## Obiettivi\n",
    "\n",
    "Ogni gruppo dovrà sintetizzare i risultati delle attività svolte a livello individuale e di gruppo in una relazione finale di sintesi. Ogni studente è tenuto a scrivere un minimo di una pagina e un massimo di due pagine che verranno fornite in appendice alla relazione. Il documento finale dovrà essere strutturato come indicato nell'esempio fornito su Moodle nel quale vengono analizzati i dati di Mehr, Song e Spelke (2016). \n",
    "\n",
    "- Il coordinatore a nome del gruppo caricherà il documento finale su Moodle, riportando nella relazione i nominativi di tutti i membri del gruppo.\n",
    "- Le presentazioni orali verranno svolte in trre incontri che avranno luogo l'ultima settimana di lezione. \n",
    "- Ogni presentazione avrà durata di 5 minuti; ad essa seguirà una discussione. Tutti i membri del gruppo dovranno essere presenti. Il lavoro del gruppo verrà presentato da uno degli studenti del gruppo scelto a caso. Rivolgero domande di chiarimento verranno rivolte a tutti gli studendi del gruppo.\n",
    "\n",
    "## Consegne di lavoro\n",
    "\n",
    "Prodotto atteso: Jupyter Notebook avente la struttura dell'esempio fornito (analisi dei dati di Mehr, Song e Spelke, 2016).\n",
    "\n",
    "## Modalità di verifica\n",
    "\n",
    "Presentazione orale del lavoro svolto e valutazione dell'elaborato scritto.\n",
    "\n",
    "## Esempio\n",
    "\n",
    "Un esempio di report è fornito nel file presente in questa cartella.\n"
   ]
  }
 ],
 "metadata": {
  "kernelspec": {
   "display_name": "Python 3",
   "language": "python",
   "name": "python3"
  },
  "language_info": {
   "name": "python",
   "version": "3.10.9"
  },
  "orig_nbformat": 4,
  "vscode": {
   "interpreter": {
    "hash": "2fb22ef73048ab480306a3a8971dd9d9ae74918bef9be9e93ea3e01644b9825e"
   }
  }
 },
 "nbformat": 4,
 "nbformat_minor": 2
}
