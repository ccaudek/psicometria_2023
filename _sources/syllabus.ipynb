{
 "cells": [
  {
   "attachments": {},
   "cell_type": "markdown",
   "metadata": {},
   "source": [
    "# Syllabus\n",
    "\n",
    "## 📖 Descrizione sintetica \n",
    "\n",
    "*Psicometria (B000286)* ha lo scopo di fornire agli studenti le conoscenze di base di statistica, di analisi dei dati e di metodologia della ricerca che costituiscono uno degli aspetti centrali del bagaglio professionale dello psicologo. Il presente insegnamento non si limiterà ad una descrizione astratta degli argomenti trattati, anche perché tali concetti risultano poco comprensibili se non vengono utilizzati nell'ambito di applicazioni concrete; gli argomenti del corso verranno invece accompagnati da esercitazioni pratiche e laboratori didattici. Per tali analisi guidate dei dati sarà necessario utilizzare un computer e un linguaggio di programmazione per l'analisi statistica dei dati. In questo insegnamento utilizzeremo Python e il linguaggio di programmazione probabilistico PyMC.\n",
    "\n",
    "## 🎓 Obiettivi formativi\n",
    "\n",
    "1. Conoscere i concetti base della misurazione psicologica.\n",
    "2. Sapere calcolare, interpretare e comunicare i principali indici di tendenza centrale, di dispersione e di associazione tra variabili.\n",
    "3. Essere in grado di replicare alcune delle analisi dei dati presentate in recenti pubblicazioni scientifiche in ambito psicologico.\n",
    "4. Acquisire familiarità con argomenti avanzati come l'approccio Bayesiano.\n",
    "5. Imparare gli aspetti di base del linguaggio di programmazione Python. La conoscenza di Python costituisce un'importante aggiunta al curriculum di qualsiasi psicologo ed è uno strumento importante per molti approfondimento successivi (compreso l'ambito dello sviluppo e della validazione dei reattivi psicologici).\n",
    "6. Essere in grado di interpretare gli aspetti base della sezione _Risultati_ delle pubblicazioni scientifiche in ambito psicologico.\n",
    "7. Produrre un report scritto che riassume i risultati quantitativi di una ricerca psicologica.\n",
    "8. Sapere fare una presentazione orale dei risultati di un progetto di analisi di dati psicologici.\n",
    "9. Sviluppare le competenze necessarie per lavorare in team.\n",
    "\n",
    "## ✔ Prerequisiti\n",
    "\n",
    "Non sono necessarie conoscenze preliminari (se non quelle fornite dalla scuola superiore). Tutte le informazioni richieste per frequentare con profitto le lezioni e per superare l'esame saranno fornite nel materiale didattico messo a disposizione e dalle esercitazioni guidate.\n",
    "\n",
    "## ℹ️ Ulteriori informazioni\n",
    "\n",
    "### Ricevimento\n",
    "\n",
    "Questo è un periodo storico insolito, per tutti noi. Non avremo un \"luogo fisico\" in cui poterci incontrare al di fuori delle lezioni. Il COVID-19 non è ancora stato neutralizzato. Detto questo, e date le preoccupazioni per il mio benessere e il benessere dei membri della mia famiglia, durante le lezioni in presenza mi comporterò nel modo seguente: me ne andrò dall’aula immediatamente dopo avere finito la lezione. È normale voler chiedere al professore qualcosa in privato dopo la lezione, o anche solo chiacchierare con lui sugli argomenti della lezione, durante la pausa. Tuttavia, questo non è un momento normale e dobbiamo adattarci alla situazione in cui ci troviamo. Ciò nonostante, continuerò ad essere facilmente reperibile. Dato il numero elevato di studenti, vi prego di _non_ inviarmi email. Vi incoraggio, invece, a contattarmi via Moodle, anche per organizzare incontri di gruppo (ma non necessariamente). In tali incontri potremo chiacchierare tranquillamente via Google Meet o Webex.\n",
    "\n",
    "### Norme relative all'uso della posta elettronica\n",
    "\n",
    "Di solito rispondo rapidamente alle e-mail degli studenti. Tuttavia, ricevo molto spesso richieste di informazioni che sono disponibili in questo sito web, a cui preferirei non dovere rispondere. Per favore, _leggete attentamente le informazioni qui fornite prima di contattarmi_. Ribadisco qui sotto alcuni punti.\n",
    "\n",
    "1. Il programma d'esame per gli studenti non frequentanti è descritto in questo sito web.\n",
    "2. Le modalità d'esame per gli studenti non frequentanti sono descritte in questo sito web.\n",
    "3. I testi da utilizzare per la preparazione dell'esame per gli studenti non frequentanti sono descritti in questo sito web.\n",
    "4. Per richiedere un incontro Google Meet con me, per favore, inviatemi un messaggio personale tramite Moodle. Dato che ciascuno studente farà parte di un gruppo, preferisco interagire con gli studenti organizzando degli incontri \"di gruppo\". Ma, talvolta, un incontro \"privato\" con me può essere utile; se ci sono le condizioni, non esitate a chiederlo.\n",
    "\n",
    "### Politica sulla disonestà accademica\n",
    "\n",
    "Prendo sul serio l'integrità accademica e non mostrerò alcuna tolleranza per comportamenti disonesti. Evitate di commettere intenzionalmente o inavvertitamente uno qualsiasi di questi atti:\n",
    "\n",
    "- dare, ricevere o utilizzare aiuti non autorizzati durante le prove in itinere o durante l'esame;\n",
    "- copiare intenzionalmente o non intenzionalmente il linguaggio, la struttura o le idee di un'altra persona attribuendovene la paternità.\n",
    "\n",
    "### Politica sulle disabilità\n",
    "\n",
    "Se uno studente ha dei bisogni educativi speciali, lo incoraggio a farmelo sapere _privatamente_ il prima possibile. Rispetterò ovviamente il diritto alla privacy in materia, con tutto il cuore.\n",
    "\n",
    "### Considerazioni finali\n",
    "\n",
    "Come per tutti gli insegnamenti, ciò che gli studenti imparano dipende in larga misura dal loro impegno durante il semestre. Chiedere aiuto ai vostri compagni e a me è importante: non abbiate timore di fare una domanda su qualcosa che non avete capito o se volete verificare quello che pensate di avere capito.\n"
   ]
  }
 ],
 "metadata": {
  "kernelspec": {
   "display_name": "bambi_env",
   "language": "python",
   "name": "python3"
  },
  "language_info": {
   "name": "python",
   "version": "3.8.15 (default, Nov 24 2022, 09:04:07) \n[Clang 14.0.6 ]"
  },
  "orig_nbformat": 4,
  "vscode": {
   "interpreter": {
    "hash": "e957f8d2d9272acec629608affb587206e5d92bb0d8d335f71da72c549770d8b"
   }
  }
 },
 "nbformat": 4,
 "nbformat_minor": 2
}
