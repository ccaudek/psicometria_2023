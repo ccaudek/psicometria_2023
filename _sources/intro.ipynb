{
 "cells": [
  {
   "attachments": {},
   "cell_type": "markdown",
   "metadata": {},
   "source": [
    "# Psicometria\n",
    "\n",
    "```{warning} \n",
    "Questo sito web verrà spesso aggiornato durante il periodo di svolgimento dell'insegnamento (marzo-maggio 2023).\n",
    "```\n",
    "\n",
    "```{admonition} Importante\n",
    "Il presente sito web è **l'unica fonte che va consultata** per informazioni sul programma dell'insegnamento Psicometria e sulle modalità d'esame.\n",
    "```\n",
    "\n",
    "## 📝 Informazioni sull'insegnamento\n",
    "\n",
    "**Codice**: B000286 - PSICOMETRIA </br>\n",
    "**Modulo**: B000286 - PSICOMETRIA (Cognomi L-Z) </br>\n",
    "**Corso di laurea**: [Scienze e Tecniche Psicologiche](https://www.scienzetecnichepsicologiche.unifi.it) </br>\n",
    "**Anno Accademico**: 2022-2023 </br>\n",
    "**Materiali didattici**: È necessario solo un laptop/computer funzionante! Tutti i materiali didattici e il software sono disponibili gratuitamente a tutti gli studenti (nessun acquisto è richiesto)</br>\n",
    "**Calendario**: 2 marzo - 25 maggio 2023</br>\n",
    "**Orario delle lezioni**: Lunedì e martedì 8:30-10:30, giovedì 11:30-13:30</br>\n",
    "**Luogo**: Plesso didattico La Torretta</br>\n",
    "**Modalità di svolgimento della didattica**: lezioni ed esercitazioni frontali</br>\n",
    "\n",
    "\n",
    "## 👨‍🏫 Informazioni sul docente\n",
    "[Corrado Caudek](https://www.unifi.it/p-doc2-2008-0-A-2c2a342f3b29-1.html)<br>\n",
    "**Email**: corrado.caudek(at)unifi(dot)it<br>\n",
    "**Website**: [caudeklab](https://ccaudek.github.io/caudeklab)</br>\n"
   ]
  }
 ],
 "metadata": {
  "kernelspec": {
   "display_name": "bambi_env",
   "language": "python",
   "name": "python3"
  },
  "language_info": {
   "name": "python",
   "version": "3.8.15 (default, Nov 24 2022, 09:04:07) \n[Clang 14.0.6 ]"
  },
  "orig_nbformat": 4,
  "vscode": {
   "interpreter": {
    "hash": "e957f8d2d9272acec629608affb587206e5d92bb0d8d335f71da72c549770d8b"
   }
  }
 },
 "nbformat": 4,
 "nbformat_minor": 2
}
