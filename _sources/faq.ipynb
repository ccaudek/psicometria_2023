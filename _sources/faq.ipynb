{
 "cells": [
  {
   "attachments": {},
   "cell_type": "markdown",
   "metadata": {},
   "source": [
    "# FAQ\n",
    "\n",
    "## ❓ Problemi con l'installazione di PyMC?\n",
    "\n",
    "Se riscontrate difficoltà nell'ottenere la configurazione necessaria per le finalità del corso sul vostro computer, non preoccupatevi. È possibile svolgere tutto ciò che viene richiesto durante il corso e l'esame su Colab. Inoltre, si tenga presente che Colab potrebbe essere più potente e veloce del proprio computer personale."
   ]
  }
 ],
 "metadata": {
  "kernelspec": {
   "display_name": "Python 3",
   "language": "python",
   "name": "python3"
  },
  "language_info": {
   "name": "python",
   "version": "3.8.10 (default, Jun  2 2021, 07:05:41) \n[Clang 12.0.5 (clang-1205.0.22.9)]"
  },
  "orig_nbformat": 4,
  "vscode": {
   "interpreter": {
    "hash": "c300c63927c1d487b2df0ca7f55d9699efd42c18a65d5b05a5383e492fa5764c"
   }
  }
 },
 "nbformat": 4,
 "nbformat_minor": 2
}
