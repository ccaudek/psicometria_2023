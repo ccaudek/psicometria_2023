{
 "cells": [
  {
   "attachments": {},
   "cell_type": "markdown",
   "metadata": {},
   "source": [
    "# Come studiare\n",
    "\n",
    "## 👩🏻‍💻 Flip teaching\n",
    "\n",
    "In questo corso utilizzeremo la metodologia del flip teaching, che favorisce un apprendimento attivo e collaborativo. La modalità prevede due momenti distinti: lo studio individuale del materiale didattico e la partecipazione alle lezioni in classe. Prima della lezione, gli studenti dovranno dedicarsi allo studio dei materiali e alla risoluzione degli esercizi assegnati, mentre durante le lezioni saranno coinvolti in attività di discussione, approfondimento e consolidamento degli argomenti. L'obiettivo è favorire una logica di learning by doing, dove gli studenti potranno applicare i concetti appresi a casa durante le esercitazioni assistite in classe.\n",
    "\n",
    "Affinché la metodologia funzioni, chiedo agli studenti di:\n",
    "\n",
    "- studiare attentamente il materiale didattico prima di ogni lezione;\n",
    "- svolgere gli esercizi WarmUp assegnati prima di venire in classe;\n",
    "- partecipare attivamente alla discussione in classe;\n",
    "- avere sempre a portata di mano un computer, poiché utilizzeremo Python per le esercitazioni.\n",
    "\n",
    "\n",
    "La fase iniziale dello studio richiede uno sforzo individuale da parte degli studenti, durante il quale è necessario acquisire le conoscenze teoriche relative ai problemi che saranno presentati all'esame. Per agevolare questo processo, oltre alla [dispensa](https://ccaudek.github.io/ds4psy_2023/intro.html), verranno forniti degli esercizi warmup per ogni argomento trattato. Gli esercizi saranno accessibili nella sezione **ESERCIZI** di questo sito e includeranno esercitazioni teoriche e pratiche, che aiuteranno gli studenti nella preparazione alla discussione in classe e nella valutazione della loro comprensione dei contenuti.\n",
    "\n",
    "\n",
    "```{admonition} Importante\n",
    "Gli esercizi *warmup* rappresentano il livello di difficoltà richiesto per superare l'esame e consentono allo studente di comprendere se le competenze sviluppate fino a quel punto siano sufficienti rispetto alle richieste dell'esame.\n",
    "```\n",
    "\n",
    "La seconda fase di studio è incentrata sull'applicazione delle conoscenze acquisite attraverso scambi con gli altri e incontri di gruppo, sia in classe che fuori. In questo modo lo studente acquisirà la capacità di utilizzare Python per risolvere i problemi presentati durante l'esame e l'interazione con i compagni favorirà l'apprendimento del linguaggio di programmazione. Tuttavia, le due fasi di studio non sono completamente separate: l'applicazione delle conoscenze contribuisce alla comprensione critica dei concetti di base.\n",
    "\n",
    "È importante tenere presente che il programma d'esame è molto vasto, pertanto non è possibile concentrare tutto lo studio alla fine del semestre. Per prepararsi adeguatamente all'esame, è necessario seguire le istruzioni fornite: studiare il materiale assegnato prima di ciascuna lezione, svolgere gli esercizi warmup assegnati prima di ciascuna lezione, chiedere chiarimenti in classe e sul forum, utilizzare Python per applicare i concetti appresi, confrontarsi con gli altri studenti e partecipare in modo attivo alle lezioni.\n",
    "\n",
    "## 💬 Forum \n",
    "\n",
    "Una risorsa importante per prepararsi all'esame è il forum. Gli studenti che hanno dubbi dopo aver studiato il materiale assegnato possono chiedere chiarimenti utilizzando il forum su Moodle predisposto dal docente. Partecipare a un forum dedicato è utile sia per coloro che fanno domande sia per coloro che rispondono, in quanto spiegare gli argomenti aiuta a consolidare l'apprendimento. Se necessario, il docente interverrà sul forum per fornire chiarimenti, ma l'idea principale è che siano gli studenti a rispondere ai dubbi degli altri. Le discussioni sul forum devono essere rispettose e basate su interventi costruttivi e collaborativi, evitando argomenti non inerenti all'insegnamento.\n"
   ]
  }
 ],
 "metadata": {
  "kernelspec": {
   "display_name": "bambi_env",
   "language": "python",
   "name": "python3"
  },
  "language_info": {
   "name": "python",
   "version": "3.8.15 (default, Nov 24 2022, 09:04:07) \n[Clang 14.0.6 ]"
  },
  "orig_nbformat": 4,
  "vscode": {
   "interpreter": {
    "hash": "e957f8d2d9272acec629608affb587206e5d92bb0d8d335f71da72c549770d8b"
   }
  }
 },
 "nbformat": 4,
 "nbformat_minor": 2
}
