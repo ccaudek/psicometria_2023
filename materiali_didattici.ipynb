{
 "cells": [
  {
   "attachments": {},
   "cell_type": "markdown",
   "metadata": {},
   "source": [
    "# Materiali didattici\n",
    "\n",
    "## Dispensa\n",
    "\n",
    "La dispensa [ds4p23](https://ccaudek.github.io/ds4psy_2023/intro.html) contiene tutto ciò che sarà discusso in aula e richiesto all'esame. Al suo interno, sono presenti tutte le istruzioni in Python necessarie per condurre le analisi guidate dei dati richieste per superare l'esame.\n",
    "\n",
    "## Materiali supplementari\n",
    "\n",
    "Un testo introduttivo eccellente che non richiede alcuna conoscenza pregressa di statistica e di programmazione, è *Data Analysis for Social Science: A Friendly and Practical Introduction* di Elena Llaudet e Kosuke Imai (2022), edito dalla Princeton University Press. Questo testo fornisce una guida passo-passo per analizzare dati del mondo reale con il programma statistico R e copre i concetti di base dell'analisi dei dati e l'approccio frequentista. Pur non trattando la statistica bayesiana e utilizzando esempi in R, questo testo rappresenta un'ottima risorsa per la preparazione dell'esame di questo insegnamento. Inoltre, si noti che, per questo testo e per altri simili, il fatto che gli esempi siano in R e non in Python non costituisce un grande limite: con l'aiuto di ChatGPT, è facile convertire la sintassi R in Python.\n",
    "\n",
    "Un'ottima risorsa per chi vuole apprendere il linguaggio di programmazione Python è il sito [Python Programming for Data Science](https://www.tomasbeuzen.com/python-programming-for-data-science/README.html). Ai fini di questo corso, in aggiunta ai contenuti forniti, una conoscenza di base degli argomenti trattati sul suddetto sito risulta sufficiente. \n",
    "\n",
    "Recentemente, sono stati pubblicati numerosi testi che offrono un'ottima introduzione all'inferenza bayesiana. Il materiale didattico usato in questo corso si ispira fortemente ai testi elencati di seguito.  Ad eccezione di quello di Richard McElreath, questi testi sono open source, quindi chiunque desideri approfondire l'argomento può consultarli facilmente.\n",
    "\n",
    "- [Bayes Rules! An Introduction to Applied Bayesian Modeling]( https://www.bayesrulesbook.com/index.html)\n",
    "- [Probability and Bayesian Modeling](https://bayesball.github.io/BOOK/probability-a-measurement-of-uncertainty.html)\n",
    "- [Statistical rethinking](https://xcelab.net/rm/statistical-rethinking/)\n",
    "- [Bayesian Modeling and Computation in Python](https://bayesiancomputationbook.com/welcome.html)\n"
   ]
  }
 ],
 "metadata": {
  "kernelspec": {
   "display_name": "bambi_env",
   "language": "python",
   "name": "python3"
  },
  "language_info": {
   "name": "python",
   "version": "3.8.15 (default, Nov 24 2022, 09:04:07) \n[Clang 14.0.6 ]"
  },
  "orig_nbformat": 4,
  "vscode": {
   "interpreter": {
    "hash": "e957f8d2d9272acec629608affb587206e5d92bb0d8d335f71da72c549770d8b"
   }
  }
 },
 "nbformat": 4,
 "nbformat_minor": 2
}
