{
 "cells": [
  {
   "attachments": {},
   "cell_type": "markdown",
   "metadata": {},
   "source": [
    "# Materiali didattici\n",
    "\n",
    "## Dispensa\n",
    "\n",
    "Tutto ciò che verrà discusso a lezione e che verrà richiesto all'esame è presente nella dispensa \n",
    "\n",
    "- [ds4psy](https://ccaudek.github.io/ds4psy_2023/intro.html) \n",
    "\n",
    "La dispensa include tutte le istruzioni $\\textsf{R}$ per lo svolgimento delle analisi guidate dei dati che sarà necessario conoscere per superare l'esame.\n",
    "\n",
    "## Materiali supplementari\n",
    "\n",
    "Una buona introduzione al linguaggio Python è \n",
    "\n",
    "- [Python for Data Science](https://aeturrell.github.io/python4DS/welcome.html/) \n",
    "\n",
    "Per gli scopi di questo insegnamento è sufficiente una conoscenza di base degli argomenti trattati in Python4DS.  \n",
    "\n",
    "Ultimamente sono stati pubblicati diversi testi che forniscono un'ottima introduzione all'inferenza bayesiana. Ne elenco qui alcuni.\n",
    "\n",
    "- [Bayes Rules! An Introduction to Applied Bayesian Modeling]( https://www.bayesrulesbook.com/index.html)\n",
    "- [Probability and Bayesian Modeling](https://bayesball.github.io/BOOK/probability-a-measurement-of-uncertainty.html)\n",
    "- [Statistical rethinking](https://xcelab.net/rm/statistical-rethinking/)\n",
    "- [Bayesian Modeling and Computation in Python](https://bayesiancomputationbook.com/welcome.html)\n"
   ]
  }
 ],
 "metadata": {
  "kernelspec": {
   "display_name": "Python 3",
   "language": "python",
   "name": "python3"
  },
  "language_info": {
   "name": "python",
   "version": "3.8.10 (default, Jun  2 2021, 07:05:41) \n[Clang 12.0.5 (clang-1205.0.22.9)]"
  },
  "orig_nbformat": 4,
  "vscode": {
   "interpreter": {
    "hash": "c300c63927c1d487b2df0ca7f55d9699efd42c18a65d5b05a5383e492fa5764c"
   }
  }
 },
 "nbformat": 4,
 "nbformat_minor": 2
}
