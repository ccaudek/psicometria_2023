{
 "cells": [
  {
   "attachments": {},
   "cell_type": "markdown",
   "metadata": {},
   "source": [
    "# Come studiare\n",
    "\n",
    "## 👩🏻‍💻 Flip teaching\n",
    "\n",
    "In questo insegnamento utilizzeremo la modalità didattica detta *flip teaching*. La Flipped Classroom  consente la creazione di un ambiente interattivo che enfatizza l'apprendimento attivo e la risoluzione cooperativa dei problemi e prevede due momenti. Nel primo momento, lo studente è tenuto a studiare a casa, individualmente e prima della lezione, tutti i materiali assegnati. Durante il secondo momento, che comprende le ore svolte in classe, vengono proposte attività di discussione, esercitazione, approfondimento e consolidamento degli argomenti trattati. Le ore in classe forniscono agli studenti l'opportunità di chiedere chiarimenti, di elaborare i concetti e di partecipare ad esercitazioni mirate ed assistite. Ciò consente agli studenti, secondo una logica di *learning by doing*, di materializzare, approfondire e sviluppare il processo di apprendimento attivato a casa. \n",
    "\n",
    "Pertanto agli studenti chiedo\n",
    "\n",
    "- di studiare il materiale didattico assegnato *prima di ciascuna lezione*;\n",
    "- di svolgere gli esercizi WarmUp assegnati *prima di venire in classe*;\n",
    "- di partecipare in maniera attiva alla discussione in classe;\n",
    "- di avere sempre a portata di mano un computer poiché a lezione faremo molti esercizi con Python.\n",
    "\n",
    "La prima fase dello studio, che è sicuramente *individuale*, è quella in cui lo studente deve acquisire le conoscenze teoriche relative ai problemi che saranno presentati all'esame. Oltre alla [dispensa](https://ccaudek.github.io/ds4psy_2023/intro.html) verranno forniti degli esercizi *warmup* per ciascuno degli argomenti trattati. Gli esercizi saranno disponibili nella sezione **ESERCIZI** di questo sito. Tali esercizi (sia di teoria che di laboratorio pratico) consentiranno la preparazione alla discussione in classe e forniranno un feedback sulla comprensione dei contenuti.  \n",
    "\n",
    "```{admonition} Importante\n",
    "Gli esercizi *warmup* rappresentano il livello di difficoltà richiesto per superare l'esame e consentono allo studente di comprendere se le competenze sviluppate fino a quel punto siano sufficienti rispetto alle richieste dell'esame.\n",
    "```\n",
    "La seconda fase di studio è facilitata da scambi con altri e da incontri di gruppo (in classe e fuori) e porta lo studente ad acquisire la capacità di applicare le conoscenze. È necessario sapere usare Python per risolvere i problemi che verranno presentati all'esame e l'interazione con i pari facilita sia l'apprendimento di un linguaggio di programmazione. Le due fasi di studio non sono però separate: le applicazioni contribuiscono alla comprensione critica dei concetti di base.\n",
    "\n",
    "Si noti che il programma d'esame è piuttosto esteso: pertanto non è possibile concentrare tutta la preparazione e lo studio a ridosso dell'esame. Per prepararsi all'esame, pertanto, è necessario procedere come descritto sopra: studiare i materiali assegnati _prima_ di ciascuna lezione, svolgere gli esercizi *warmup* assegnati _prima_ di ciascuna lezione, chiedere chiarimenti a lezione e sul Forum, usare Python per applicare i concetti appresi, confrontarsi con gli altri studenti e *partecipare in maniera attiva* alle lezioni. \n",
    "\n",
    "## 💬 Forum \n",
    "\n",
    "Un altro strumento utile per la preparazione all'esame è il *forum*. Chi, dopo avere studiato il materiale assegnato, ha dei dubbi, può chiedere chiarimenti. Ho predisposto un server Discord *privato*  dedicato a questo insegnamento. Si entra con invito; il link è su Moodle. Negli anni passati ho notato che il forum Moodle era sotto-utilizzato. Mi sono fatto l'idea che questo fosse dovuto al fatto che, nel contesto di un insegnamento universitario, può non fare piacere ad uno studente dichiarare pubblicamente di non avere capito qualcosa, se questa informazione arriva a me. Per ovviare a questo limite, ho creato il server Discord che consente ad uno studente di registrarsi in forma anonima, *se lo preferisce*, così da favorire la partecipazione. La partecipazione ad un forum dedicato è utile sia per chi pone le domande, sia per chi risponde. Spiegare agli altri, infatti, è il modo migliore per consolidare l'apprendimento. Se sarà necessario, di tanto in tanto, interverrò io stesso sul forum per fornire i chiarimenti necessari. Ma, in primo luogo, mi aspetto che siano gli studenti a rispondere ai dubbi sollevati.\n"
   ]
  }
 ],
 "metadata": {
  "kernelspec": {
   "display_name": "bambi_env",
   "language": "python",
   "name": "python3"
  },
  "language_info": {
   "codemirror_mode": {
    "name": "ipython",
    "version": 3
   },
   "file_extension": ".py",
   "mimetype": "text/x-python",
   "name": "python",
   "nbconvert_exporter": "python",
   "pygments_lexer": "ipython3",
   "version": "3.10.8"
  },
  "vscode": {
   "interpreter": {
    "hash": "e957f8d2d9272acec629608affb587206e5d92bb0d8d335f71da72c549770d8b"
   }
  }
 },
 "nbformat": 4,
 "nbformat_minor": 2
}