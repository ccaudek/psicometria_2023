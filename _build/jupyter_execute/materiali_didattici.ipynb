{
 "cells": [
  {
   "attachments": {},
   "cell_type": "markdown",
   "metadata": {},
   "source": [
    "# Materiali didattici\n",
    "\n",
    "1. [Bayes Rules! An Introduction to Applied Bayesian Modeling]( https://www.bayesrulesbook.com/index.html) -- capitoli 1-10, 15.\n",
    "\n",
    "2. La dispensa intitolata \"ds4psy\", disponibile al seguente link [ds4psy](https://ccaudek.github.io/ds4psy/intro.html), copre tutto il contenuto del corso. All'interno di questa dispensa, sono disponibili tutte le istruzioni in linguaggio Python necessarie per condurre in modo guidato le analisi dei dati richieste per superare con successo l'esame.\n",
    "\n",
    "3. Al fine di prepararsi adeguatamente all'esame, è altresì necessaria la lettura dei seguenti articoli (gli articoli sono disponibili nella pagina Moodle del corso):\n",
    "\n",
    "   - Loken, E., & Gelman, A. (2017). Measurement error and the replication crisis. *Science*, *355*(6325), 584-585.\n",
    "   - Amrhein, V., Greenland, S., & McShane, B. (2019). Comment: Retire statistical significance. *Nature*, *567*, 305-307.\n",
    "   - Wasserstein, R. L., Schirm, A. L., & Lazar, N. A. (2019). Moving to a world beyond “p< 0.05”. *The American Statistician*, *73*(sup1), 1-19.\n",
    "\n",
    "## Materiali supplementari\n",
    "\n",
    "I materiali supplementari di seguito elencati non sono obbligatori per la preparazione all'esame. Tuttavia, sono forniti come risorse aggiuntive per coloro che desiderano approfondire gli argomenti trattati nella dispensa o consultare testi che presentano gli stessi contenuti da prospettive diverse.\n",
    "\n",
    "Un'introduzione accessibile all'analisi dei dati è fornita dal libro intitolato \"Data Analysis for Social Science: A Friendly and Practical Introduction\" scritto da Elena Llaudet e Kosuke Imai (2022) e pubblicato dalla Princeton University Press. Questa risorsa offre una guida dettagliata e graduale per l'analisi dei dati utilizzando il software statistico R. Pur non trattando specificamente la statistica bayesiana, il libro rappresenta comunque un'eccellente introduzione agli argomenti trattati nel contesto del presente corso. È importante notare che, nonostante gli esempi forniti nel libro siano basati su R e non su Python, questa differenza non costituisce una limitazione significativa. Grazie all'assistenza fornita da ChatGPT, è possibile agevolmente convertire la sintassi R in Python.\n",
    "\n",
    "Un'ottima risorsa per chi desidera imparare il linguaggio di programmazione Python è il sito [Python Programming for Data Science](https://www.tomasbeuzen.com/python-programming-for-data-science/README.html). Ai fini di questo corso, oltre ai contenuti forniti, una conoscenza di base degli argomenti trattati nel suddetto sito risulta essere sufficiente.\n",
    "\n",
    "Recentemente, sono stati pubblicati numerosi testi, incluso quello di Johnson, Ott e Dogucu che abbiamo adottato, che offrono un'ottima introduzione all'inferenza bayesiana. Dei tre testi elencati di seguito, due sono accessibili online (Albert e Hu, 2020; Martin, Ravin e Junpeng, 2021), quindi chiunque desideri approfondire l'argomento può consultarli facilmente.\n",
    "\n",
    "- [Probability and Bayesian Modeling](https://bayesball.github.io/BOOK/probability-a-measurement-of-uncertainty.html)\n",
    "- [Statistical rethinking](https://xcelab.net/rm/statistical-rethinking/)\n",
    "- [Bayesian Modeling and Computation in Python](https://bayesiancomputationbook.com/welcome.html)\n"
   ]
  }
 ],
 "metadata": {
  "kernelspec": {
   "display_name": "bambi_env",
   "language": "python",
   "name": "python3"
  },
  "language_info": {
   "codemirror_mode": {
    "name": "ipython",
    "version": 3
   },
   "file_extension": ".py",
   "mimetype": "text/x-python",
   "name": "python",
   "nbconvert_exporter": "python",
   "pygments_lexer": "ipython3",
   "version": "3.11.4"
  },
  "vscode": {
   "interpreter": {
    "hash": "e957f8d2d9272acec629608affb587206e5d92bb0d8d335f71da72c549770d8b"
   }
  }
 },
 "nbformat": 4,
 "nbformat_minor": 2
}