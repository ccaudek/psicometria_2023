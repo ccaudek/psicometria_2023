{
 "cells": [
  {
   "attachments": {},
   "cell_type": "markdown",
   "metadata": {},
   "source": [
    "# Materiali didattici\n",
    "\n",
    "## Dispensa\n",
    "\n",
    "Tutto ciò che verrà discusso a lezione e che verrà richiesto all'esame è presente nella dispensa [ds4psy](https://ccaudek.github.io/ds4psy_2023/intro.html). La dispensa include tutte le istruzioni Python per lo svolgimento delle analisi guidate dei dati che sarà necessario conoscere per superare l'esame.\n",
    "\n",
    "## Materiali supplementari\n",
    "\n",
    "Una buona introduzione al linguaggio Python è [Python Programming for Data Science](https://www.tomasbeuzen.com/python-programming-for-data-science/README.html). Per gli scopi di questo insegnamento, oltre a ciò che verrà discusso nel materiale messo a disposizione, è sufficiente una conoscenza di base degli argomenti trattati nel sito indicato sopra.  \n",
    "\n",
    "Recentemente sono stati pubblicati vari testi che forniscono un'ottima introduzione all'inferenza bayesiana. Il material didattico che ho predisposto è stato fortemente ispirato dai testi elencati qui sotto. Tranne il testo di Richard McElreath, gli altri sono tutti open source, per cui chi volesse dei chiarimenti o fosse interessato a degli approfondimenti, può consultarli tranquillamente.\n",
    "\n",
    "- [Bayes Rules! An Introduction to Applied Bayesian Modeling]( https://www.bayesrulesbook.com/index.html)\n",
    "- [Probability and Bayesian Modeling](https://bayesball.github.io/BOOK/probability-a-measurement-of-uncertainty.html)\n",
    "- [Statistical rethinking](https://xcelab.net/rm/statistical-rethinking/)\n",
    "- [Bayesian Modeling and Computation in Python](https://bayesiancomputationbook.com/welcome.html)\n"
   ]
  }
 ],
 "metadata": {
  "kernelspec": {
   "display_name": "bambi_env",
   "language": "python",
   "name": "python3"
  },
  "language_info": {
   "codemirror_mode": {
    "name": "ipython",
    "version": 3
   },
   "file_extension": ".py",
   "mimetype": "text/x-python",
   "name": "python",
   "nbconvert_exporter": "python",
   "pygments_lexer": "ipython3",
   "version": "3.10.8"
  },
  "vscode": {
   "interpreter": {
    "hash": "e957f8d2d9272acec629608affb587206e5d92bb0d8d335f71da72c549770d8b"
   }
  }
 },
 "nbformat": 4,
 "nbformat_minor": 2
}