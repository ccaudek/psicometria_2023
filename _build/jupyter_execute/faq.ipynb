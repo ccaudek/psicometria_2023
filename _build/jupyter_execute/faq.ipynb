{
 "cells": [
  {
   "attachments": {},
   "cell_type": "markdown",
   "metadata": {},
   "source": [
    "# FAQ\n",
    "\n",
    "## ❓ Problemi con l'installazione di PyMC?\n",
    "\n",
    "Se riscontrate difficoltà nell'ottenere la configurazione necessaria per le finalità del corso sul vostro computer, non preoccupatevi. È possibile svolgere tutto ciò che viene richiesto durante il corso e l'esame su Colab. Inoltre, si tenga presente che Colab potrebbe essere più potente e veloce del proprio computer personale."
   ]
  }
 ],
 "metadata": {
  "kernelspec": {
   "display_name": "Python 3",
   "language": "python",
   "name": "python3"
  },
  "language_info": {
   "codemirror_mode": {
    "name": "ipython",
    "version": 3
   },
   "file_extension": ".py",
   "mimetype": "text/x-python",
   "name": "python",
   "nbconvert_exporter": "python",
   "pygments_lexer": "ipython3",
   "version": "3.10.9"
  },
  "vscode": {
   "interpreter": {
    "hash": "c300c63927c1d487b2df0ca7f55d9699efd42c18a65d5b05a5383e492fa5764c"
   }
  }
 },
 "nbformat": 4,
 "nbformat_minor": 2
}