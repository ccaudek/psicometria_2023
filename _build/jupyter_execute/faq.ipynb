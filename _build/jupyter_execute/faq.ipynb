{
 "cells": [
  {
   "attachments": {},
   "cell_type": "markdown",
   "metadata": {},
   "source": [
    "# FAQ\n",
    "\n",
    "## ❓ Problemi con l'installazione dei pacchetti R su Windows?\n",
    "\n",
    "Ottenere la configurazione necessaria per gli scopi di questo insegnamento su Windows potrebbe richiedere un po' più di fatica rispetto a Linux e Mac. Di conseguenza, se possibile, consigliamo di utilizzare Linux o MacOS. Inoltre, Stan, il linguaggio di programmazione probabilistico che useremo in questo insegnamento, richiede una toolchain del compilatore C++ che non è disponibile di default in Windows (colpa Microsoft). Per l'installazione di `cmdstan` sui vari sistemi operativi è possibile consultare la pagina web [CmdStan User's Guide](https://mc-stan.org/docs/2_28/cmdstan-guide/cmdstan-installation.html).\n",
    "\n",
    "\n",
    "## Istallare `knitr`\n",
    "\n",
    "Se avete installato RStudio e R, è probabile che sulla vostra macchina manchi `knitr`, il pacchetto responsabile del rendering dei notebook in pdf.\n",
    "\n",
    "**Soluzione:**\n",
    "\n",
    "```{r eval=FALSE}\n",
    "install.packages(\"knitr\")\n",
    "```\n",
    "\n",
    "Potete anche installare i pacchetti dal menu di RStudio `Tools->Install Packages`.\n",
    "\n",
    "## Se `knitr` è installato ma il pdf non si compila \n",
    "\n",
    "In questo caso è possibile che non sia installato LaTeX, che è il pacchetto che elabora il codice e produce il file in formato pdf.\n",
    "\n",
    "**Soluzione:**\n",
    "\n",
    "È sufficiente installare tinytex che fornisce l'insieme minimo di funzionalità LaTeX  indispensabili per potere usare il compilatore pdf:\n",
    "\n",
    "```{r eval=FALSE}\n",
    "install.packages(\"tinytex\")\n",
    "tinytex::install_tinytex()\n",
    "```\n",
    "\n",
    "## Installare `cmdstan`\n",
    "\n",
    "Assicuratevi sempre di avere aggiornato il sistema operativo all'ultima versione disponibile. Assicuratevi inoltre di avere installato la versione più recente di $\\textsf{R}$.\n"
   ]
  }
 ],
 "metadata": {
  "kernelspec": {
   "display_name": "Python 3",
   "language": "python",
   "name": "python3"
  },
  "language_info": {
   "codemirror_mode": {
    "name": "ipython",
    "version": 3
   },
   "file_extension": ".py",
   "mimetype": "text/x-python",
   "name": "python",
   "nbconvert_exporter": "python",
   "pygments_lexer": "ipython3",
   "version": "3.8.15"
  },
  "vscode": {
   "interpreter": {
    "hash": "c300c63927c1d487b2df0ca7f55d9699efd42c18a65d5b05a5383e492fa5764c"
   }
  }
 },
 "nbformat": 4,
 "nbformat_minor": 2
}