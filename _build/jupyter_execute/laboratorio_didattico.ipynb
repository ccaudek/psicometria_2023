{
 "cells": [
  {
   "attachments": {},
   "cell_type": "markdown",
   "metadata": {},
   "source": [
    "# Laboratorio didattico\n",
    "\n",
    "Il laboratorio didattico consentirà agli studenti di applicare le conoscenze apprese e di usare il loro know-how per portare a termine un progetto di analisi di dati psicologici. \n",
    "\n",
    "- Il primo obiettivo del laboratorio didattico è la produzione di un elaborato nel quale, a partire dai dati reali messi a disposizione dagli autori di recenti pubblicazioni psicologiche, si ripercorre il percorso che, partendo dall’ipotesi della ricerca e attraverso l’analisi dei dati, conduce alle conclusioni dello studio.  \n",
    "- Il secondo obiettivo è quello di contribuire a sviluppare le competenze comunicativo-relazionali che rendono possibile sia una presentazione orale dei risultati sia un'interazione proficua e costruttiva con gli altri membri del gruppo.\n",
    "\n",
    "## Modalità di svolgimento\n",
    "\n",
    "Il laboratorio didattico prevede una serie di incontri Meet che si svolgeranno sia collettivamente, a lezione, sia separatamente per i vari gruppi, sotto la supervisione del docente. Il resto si svolgerà tramite incontri organizzati autonomamente dai partecipanti e online in piattaforma Moodle tramite il Forum.\n",
    "\n",
    "Allo studente si chiede quanto segue.\n",
    "\n",
    "1. Lettura dell'articolo messo a disposizione che motiva il lavoro. Si presti particolare attenzione ai seguenti punti. \n",
    "    - Qual è l’ipotesi della ricerca? \n",
    "    - Che relazione c’è tra l’ipotesi di ricerca e la letteratura di riferimento? \n",
    "    - Quale metodologia viene usata dagli autori per raccogliere i dati necessari a verificare l’ipotesi che motiva lo studio? \n",
    "    - Come vengono interpretati i risultati dell’analisi statistica e perché tali risultati sono rilevanti per la verifica dell’ipotesi della ricerca? \n",
    "    - Quali conclusioni traggono gli autori dai risultati ottenuti? \n",
    "    - In che modo i risultati ottenuti contribuiscono ad avanzare le nostre conoscenze del fenomeno considerato?\n",
    "\n",
    "2. Svolgimento delle attività seguenti.\n",
    "    - attività n. 1: lavoro di gruppo.\n",
    "    - attività n. 2: produzione di un elaborato.\n",
    "\n",
    "## Composizione e attività dei gruppi\n",
    "\n",
    "Le attività del laboratorio didattico si svolgeranno in gruppo. \n",
    "\n",
    "Ogni gruppo dovrà essere costituito da un minimo di 20 e un massimo di 30 studenti. Ciascun gruppo verrà identificato dal cognome del primo autore dell'articolo di riferimento. I gruppi verranno formati entro la fine della seconda settimana di lezione. Ogni gruppo avrà un referente che avrà il ruolo di organizzare gli incontri periodici del gruppo e di interfacciarsi con me per eventuali comunicazioni e aggiornamenti. Ogni studente frequentante deve far parte di un gruppo. Per iscriversi ad un gruppo, è necessario seguire le indicazioni riportate nella pagina Moodle. Vi consiglio di fissare un incontro settimanale telematico per discutere sia gli esercizi WarmUp, sia i progressi del progetto di gruppo.\n",
    "\n",
    "## Istruzioni E-tivity\n",
    "\n",
    "Ogni gruppo dovrà sintetizzare i risultati delle attività svolte a livello individuale e di gruppo in una relazione finale di sintesi. Tale documento dovrà essere strutturato come indicato nell’E-tivity che illustra l'analisi dei dati di Mehr, Song e Spelke (2016). \n",
    "\n",
    "- Il coordinatore a nome del gruppo caricherà il documento su Moodle, riportando i nominativi di tutti i membri del gruppo.\n",
    "- Le presentazioni orali verranno svolte in due incontri che avranno luogo l'ultima settimana di lezione. \n",
    "- Ogni presentazione avrà durata di 5 minuti; ad essa seguirà una discussione. Tutti i membri del gruppo dovranno essere presenti.\n",
    "\n",
    "## Consegne di lavoro\n",
    "\n",
    "Prodotto atteso: file in formato R Markdown (Rmd) avente la struttura dell'esempio fornito (Mehr, Song e Spelke, 2016).\n",
    "\n",
    "## Modalità di verifica\n",
    "\n",
    "Presentazione orale del lavoro svolto e valutazione dell'elaborato scritto.\n",
    "\n",
    "## Esempio\n",
    "\n",
    "Fornisco qui un [esempio](http://htmlpreview.github.io/?https://github.com/ccaudek/ds4psy_R_demos/blob/main/project/melody.html) di relazione, insieme all'[articolo](https://github.com/ccaudek/ds4psy_R_demos/blob/main/project/melodies_infants.pdf) di partenza. \n",
    "\n",
    "# Demos\n",
    "\n",
    "Il repository [ds4psy_R_demos](https://github.com/ccaudek/ds4psy_R_demos) contiene vari script Rmd che ulteriormente illustrano o estendono i temi discussi nella dispensa _Data science per psicologi_.\n",
    "\n",
    "- [Capitolo 3](https://github.com/ccaudek/ds4psy_R_demos/tree/main/demos_ch03/)\n",
    "    - [3.1: Istogramma](http://htmlpreview.github.io/?https://github.com/ccaudek/ds4psy_R_demos/blob/main/demos_ch03/demo03_01.html)\n",
    "    \n"
   ]
  }
 ],
 "metadata": {
  "kernelspec": {
   "display_name": "Python 3",
   "language": "python",
   "name": "python3"
  },
  "language_info": {
   "codemirror_mode": {
    "name": "ipython",
    "version": 3
   },
   "file_extension": ".py",
   "mimetype": "text/x-python",
   "name": "python",
   "nbconvert_exporter": "python",
   "pygments_lexer": "ipython3",
   "version": "3.10.8"
  },
  "vscode": {
   "interpreter": {
    "hash": "c300c63927c1d487b2df0ca7f55d9699efd42c18a65d5b05a5383e492fa5764c"
   }
  }
 },
 "nbformat": 4,
 "nbformat_minor": 2
}