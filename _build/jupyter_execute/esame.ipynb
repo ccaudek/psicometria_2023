{
 "cells": [
  {
   "attachments": {},
   "cell_type": "markdown",
   "metadata": {},
   "source": [
    "# Modalità di verifica dell'apprendimento\n",
    "\n",
    "- Per superare l'esame, sarà necessario avere una conoscenza di base di Python.\n",
    "- L'esame sarà a libri aperti, il che significa che gli studenti potranno utilizzare qualsiasi risorsa (cartacea o elettronica) ritenuta utile per risolvere i problemi assegnati.\n",
    "- Tuttavia, gli studenti dovranno lavorare in modo indipendente e non sarà consentita alcuna forma di collaborazione.\n",
    "- Il programma d'esame sarà identico per gli studenti frequentanti e non frequentanti.\n",
    "\n",
    "## 💻 Quiz Moodle\n",
    "\n",
    "- Sia le prove in itinere per gli studenti frequentanti che gli esami per gli studenti non frequentanti saranno condotti attraverso *quiz Moodle*. \n",
    "- Per partecipare, gli studenti dovranno utilizzare il proprio computer.\n",
    "- Per superare l'esame, è necessaria una conoscenza di base di Python.\n",
    "- Nel quiz Moodle, agli studenti verrà richiesto di rispondere alle domande in modalità sequenziale, senza poter tornare indietro alla domanda precedente o saltare alla successiva.\n",
    "- I problemi assegnati a ciascuno studente saranno estratti casualmente da un database, il che significa che potrebbero variare da studente a studente.\n",
    "- Durante il quiz Moodle, gli studenti dovranno rispondere sotto pressione temporale.\n",
    "- Le prestazioni verranno valutate in maniera relativa, con riferimento alla distribuzione delle prestazioni degli studenti frequentanti. \n",
    "- Non è necessario risolvere tutti i problemi proposti per ottenere il massimo dei voti.\n",
    "\n",
    "## Studenti frequentanti\n",
    "\n",
    "Per essere considerato uno studente _frequentante_ è necessario soddisfare i seguenti requisiti.\n",
    "\n",
    "1. Consegnare _tutti_ i report in itinere assegnati entro le relative scadenze e ottenere un giudizio positivo su ognuno di essi.\n",
    "2. Sostenere e superare le due prove parziali previste.\n",
    "3. Completare le attività del laboratorio didattico, che includono la stesura e la presentazione orale di un lavoro di gruppo basato sull'analisi dei dati di una pubblicazione psicologica recente.\n",
    "\n",
    "Gli studenti frequentanti saranno suddivisi in gruppi. Oltre agli esercizi WarmUp, che verranno svolti individualmente ma non saranno valutati, assegnerò periodicamente a ciascun gruppo la scrittura di un report in itinere per monitorare il lavoro svolto nel corso del semestre. È obbligatorio che gli studenti frequentanti completino tutti i report assegnati entro la scadenza prevista. Il report conterrà un breve resoconto del lavoro svolto dal gruppo nel laboratorio didattico e includerà un'appendice con i contributi individuali degli studenti del gruppo. Verrà assegnato un giudizio complessivo (pass/fail) ai report.\n",
    "\n",
    "Per gli studenti che hanno ottenuto un giudizio positivo in tutti i report in itinere, il voto finale sarà calcolato in base ai seguenti criteri:\n",
    "- 1/3 del voto sarà basato sul risultato di una prova parziale che si terrà a metà semestre (quiz Moodle).\n",
    "- 1/3 del voto sarà basato sul risultato di una seconda prova parziale che si terrà alla fine del semestre (quiz Moodle).\n",
    "- 1/3 del voto sarà basato sulla valutazione della presentazione scritta e orale del lavoro di gruppo relativo all'analisi dei dati di una recente pubblicazione psicologica.\n",
    "\n",
    "Inoltre, verranno assegnati 2 punti bonus a chi sceglierà di partecipare ad un'esperienza di laboratorio online (con circa 5 ore di impegno), i quali saranno aggiunti al voto ottenuto tramite i criteri sopra descritti. La partecipazione al laboratorio non è obbligatoria e non influenzerà il punteggio massimo ottenibile all'esame, ma rappresenta un'opportunità per ottenere un punteggio più alto e acquisire una comprensione pratica di un progetto di ricerca psicologico.\n",
    "\n",
    "Durante l'esperienza di laboratorio, verranno utilizzate tecniche di analisi statistica per individuare eventuali comportamenti di careless responding nei dati raccolti. Inoltre, se verranno riscontrati comportamenti scorretti, come ad esempio il cheating, gli studenti non avranno accesso ai 2 punti bonus ma saranno sottoposti ad un'integrazione orale obbligatoria per superare l'esame.\n",
    "\n",
    "Nel corso degli anni precedenti, la maggior parte degli studenti ha optato per la modalità d'esame riservata agli studenti frequentanti e ha ottenuto un esito positivo.\n",
    "\n",
    "```{tip} \n",
    "Gli studenti frequentanti che avranno ottenuto un voto sufficiente **saranno tenuti** ad iscriversi al primo appello utile d'esame. Una volta iscritti all'esame, non dovranno effettuare ulteriori azioni, poiché sarò io a provvedere alla verbalizzazione e all'inserimento del voto.\n",
    "```\n",
    "\n",
    "## Studenti non frequentanti\n",
    "\n",
    "L'esame previsto per le sessioni degli esami si svolgerà attraverso un quiz Moodle, il quale sarà simile a quelli presenti nella pagina Moodle dell'insegnamento.\n",
    "\n",
    "```{warning} \n",
    "Per partecipare all'esame, è richiesto che gli studenti portino con sé un computer portatile alla Torretta il giorno dell'esame, come richiesto anche per gli studenti frequentanti.\n",
    "```\n",
    "\n"
   ]
  }
 ],
 "metadata": {
  "kernelspec": {
   "display_name": "Python 3",
   "language": "python",
   "name": "python3"
  },
  "language_info": {
   "codemirror_mode": {
    "name": "ipython",
    "version": 3
   },
   "file_extension": ".py",
   "mimetype": "text/x-python",
   "name": "python",
   "nbconvert_exporter": "python",
   "pygments_lexer": "ipython3",
   "version": "3.11.3"
  },
  "vscode": {
   "interpreter": {
    "hash": "c300c63927c1d487b2df0ca7f55d9699efd42c18a65d5b05a5383e492fa5764c"
   }
  }
 },
 "nbformat": 4,
 "nbformat_minor": 2
}