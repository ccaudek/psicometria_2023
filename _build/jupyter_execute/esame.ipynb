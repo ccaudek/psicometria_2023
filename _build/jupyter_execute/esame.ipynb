{
 "cells": [
  {
   "attachments": {},
   "cell_type": "markdown",
   "metadata": {},
   "source": [
    "# Modalità di verifica dell'apprendimento\n",
    "\n",
    "L'esame richiederà almeno una conoscenza rudimentale di Python. L'esame sarà a *libri aperti*, nel senso che gli studenti potranno utilizzare qualsiasi ausilio (elettronico o cartaceo) ritengano utile per trovare la soluzione dei problemi che verranno loro assegnati. L'unico vincolo è che lo studente dovrà lavorare in autonomia senza collaborare in nessun modo con altri. \n",
    "\n",
    "Il programma d'esame è identico per studenti frequentanti e non frequentanti.\n",
    "\n",
    "## 💻 Quiz Moodle\n",
    "\n",
    "Sia le prove in itinere per gli studenti frequentanti sia gli esami degli studenti non frequentanti si svolgeranno mediante *quiz Moodle*. Per partecipare sarà dunque necessario usare il proprio computer. \n",
    "\n",
    "I quiz delle prove in itinere e degli esami per non frequentanti obbligheranno lo studente a rispondere alle domande nella _modalità sequenziale_, ovvero senza potere tornare indietro alla domanda precedente o andare avanti alla domanda successiva saltandone una.\n",
    "\n",
    "I problemi assegnati a ciascuno studente saranno estratti casualmente da un database. Ciò significa che, a studenti diversi, potranno essere assegnati problemi diversi. Anche se lo stesso problema verrà proposto a studenti diversi, la sequenza delle possibili risposte sarà ordinata in maniera casuale per ciascuno studente. Inoltre, ci saranno varianti dello stesso problema nelle quali sarà usato lo stesso testo, ma con valori numerici diversi, per cui i risultati numerici corretti varieranno da studente a studente.\n",
    "\n",
    "Le prove in itinere e gli esami si svolgeranno sotto _pressione temporale_. Non mi aspetto che lo studente completi tutti i quiz assegnati. Valuterò le prestazioni in maniera relativa, per cui agli studenti che otterranno i risultati migliori verrà assegnato il massimo dei voti, anche se non avranno risolto tutti i problemi proposti. Nelle sessioni d’esame per studenti non frequentanti -- alle quali, di solito, partecipa un numero esiguo di studenti -- valuterò la prestazione con riferimento alla distribuzione delle prestazioni ottenute dagli studenti frequentati (la quasi totalità di studenti in questo insegnamento).\n",
    "\n",
    "## Studenti frequentanti\n",
    "\n",
    "Per essere considerato uno studente _frequentante_ è necessario\n",
    "\n",
    "1. ottenere un giudizio positivo su _tutti_ i report in itinere che verranno assegnati (che devono essere consegnati entro la data prevista),\n",
    "2. completare le due prove parziali,\n",
    "3. completare le attività del laboratorio didattico (stesura e presentazione orale di un lavoro di gruppo relativo all'analisi dei dati di una recente pubblicazione psicologica).\n",
    "\n",
    "Gli studenti frequentanti saranno divisi in gruppi. Oltre agli esercizi WarmUp che andranno svolti individualmente (ma non verranno valutati da me), assegnerò periodicamente a ciascun gruppo la stesura di un report in itinere che ha l'obiettivo di monitorare il lavoro svolto da ciascun _gruppo_ nel corso del semestre. Gli studenti frequentanti dovranno completare entro il termine previsto tutti i report assegnati (3 nella prima metà del semestre, 2 nell'ultima parte del semestre). Il report sarà un breve resoconto del lavoro che è stato svolto dal gruppo nell'ambito del laboratorio didattico; nell'appendice del report verranno riportati i contributi individuali degli studenti che fanno parte del gruppo. Ai report verrà assegnato un giudizio complessivo (pass/fail).\n",
    "\n",
    "Per coloro che avranno ottenuto un giudizio positivo in tutti i report in itinere, il voto finale sarà determinato come segue.\n",
    "\n",
    "- 1/3 del voto sarà determinato dal risultato di una prima prova parziale che si svolgerà a metà semestre (quiz Moodle).\n",
    "- 1/3 del voto sarà determinato dal risultato di una seconda prova parziale che si svolgerà a fine semestre (quiz Moodle).\n",
    "- 1/3 del voto sarà determinato dalla valutazione della presentazione scritta e orale del laboratorio didattico.\n",
    "- 2 punti bonus saranno _sommati_ al voto ottenuto mediante i criteri sopra descritti a chi svolgerà un'esperienza di laboratorio (circa 4 ore di impegno). La partecipazione è del tutto volontaria. Non partecipare a questa esperienza di laboratorio non pregiudica in nessun modo il possibile ottenimento del massimo punteggio possibile all'esame. È un modo per ottenere, possibilmente, un punteggio più alto ma, soprattutto, l'occasione di avere un'esperienza diretta di cosa significa in pratica un progetto di ricerca psicologico. Le attività di questa esperienza si svolgeranno online.\n",
    "\n",
    "    - Verranno utilizzate delle tecniche di analisi statistica per il rilevamento del _careless responding_. Agli studenti che metteranno in atto strategie di _cheating_ nell'esperienza di laboratorio, anziché 2 punti di bonus verrà assegnata una obbligatoria integrazione orale necessaria per potere superare l'esame.\n",
    "\n",
    "Negli anni passati la quasi totalità degli studenti ha scelto (con profitto) la modalità d'esame per studenti frequentanti.\n",
    "\n",
    "```{tip} \n",
    "Gli studenti frequentanti che avranno ottenuto un voto sufficiente **dovranno** iscriversi al primo appello utile d'esame. Oltre a iscriversi all'esame, tali studenti non dovranno fare nient'altro (non è necessario andare alla Torretta): provvederò io alla verbalizzazione.\n",
    "```\n",
    "\n",
    "## Studenti non frequentanti\n",
    "\n",
    "L'esame che si svolgerà nel periodo previsto per le sessioni degli esami avrà la forma di un quiz Moodle. I quiz che verranno forniti saranno simili a quelli presenti nella pagina Moodle dell'insegnamento. \n",
    "\n",
    "```{warning} \n",
    "Come per gli studenti frequentanti, per partecipare all'esame è richiesto l'uso del proprio computer portatile. Pertanto, il giorno dell'esame, gli studenti **dovranno portare con sé un computer portatile alla Torretta**.\n",
    "```\n",
    "\n"
   ]
  }
 ],
 "metadata": {
  "kernelspec": {
   "display_name": "Python 3",
   "language": "python",
   "name": "python3"
  },
  "language_info": {
   "codemirror_mode": {
    "name": "ipython",
    "version": 3
   },
   "file_extension": ".py",
   "mimetype": "text/x-python",
   "name": "python",
   "nbconvert_exporter": "python",
   "pygments_lexer": "ipython3",
   "version": "3.8.15"
  },
  "vscode": {
   "interpreter": {
    "hash": "c300c63927c1d487b2df0ca7f55d9699efd42c18a65d5b05a5383e492fa5764c"
   }
  }
 },
 "nbformat": 4,
 "nbformat_minor": 2
}