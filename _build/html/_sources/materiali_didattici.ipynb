{
 "cells": [
  {
   "attachments": {},
   "cell_type": "markdown",
   "metadata": {},
   "source": [
    "# Materiali didattici\n",
    "\n",
    "## Dispensa\n",
    "\n",
    "La dispensa denominata \"ds4p23\", reperibile al seguente link [ds4p23](https://ccaudek.github.io/ds4psy_2023/intro.html), rappresenta una risorsa completa che copre l'intero contenuto del corso e costituisce il materiale di riferimento per l'esame. All'interno di questa dispensa, sono disponibili tutte le istruzioni in linguaggio Python necessarie per condurre in modo guidato le analisi dei dati richieste per superare con successo l'esame. \n",
    "\n",
    "## Articoli\n",
    "\n",
    "Al fine di prepararsi adeguatamente all'esame, è altresì necessaria la lettura degli articoli seguenti:\n",
    "\n",
    "- Loken, E., & Gelman, A. (2017). Measurement error and the replication crisis. *Science*, *355*(6325), 584-585.\n",
    "- Amrhein, V., Greenland, S., & McShane, B. (2019). Comment: Retire statistical significance. *Nature*, *567*, 305-307.\n",
    "- Wasserstein, R. L., Schirm, A. L., & Lazar, N. A. (2019). Moving to a world beyond “p< 0.05”. *The American Statistician*, *73*(sup1), 1-19.\n",
    "\n",
    "Gli articoli sono disponibili nella pagina Moodle del corso.\n",
    "\n",
    "## Materiali supplementari\n",
    "\n",
    "I materiali supplementari di seguito elencati non sono obbligatori per la preparazione all'esame. Tuttavia, sono forniti come risorse aggiuntive per coloro che desiderano approfondire gli argomenti trattati nella dispensa o consultare testi che presentano gli stessi contenuti da prospettive diverse.\n",
    "\n",
    "Un'introduzione accessibile all'analisi dei dati è rappresentata dal libro intitolato \"Data Analysis for Social Science: A Friendly and Practical Introduction\" scritto da Elena Llaudet e Kosuke Imai (2022) e pubblicato dalla Princeton University Press. Questa risorsa fornisce una guida dettagliata e graduale per l'analisi dei dati utilizzando il software statistico R. Pur non trattando specificamente la statistica bayesiana, il libro costituisce comunque un'eccellente introduzione agli argomenti affrontati nel contesto del presente corso. È importante notare che, nonostante gli esempi forniti nel libro siano basati su R e non su Python, questa differenza non rappresenta una limitazione significativa. Grazie all'assistenza fornita da ChatGPT, è possibile agevolmente convertire la sintassi R in Python.\n",
    "\n",
    "Un'ottima risorsa per chi vuole apprendere il linguaggio di programmazione Python è il sito [Python Programming for Data Science](https://www.tomasbeuzen.com/python-programming-for-data-science/README.html). Ai fini di questo corso, in aggiunta ai contenuti forniti, una conoscenza di base degli argomenti trattati sul suddetto sito risulta sufficiente. \n",
    "\n",
    "Recentemente, sono stati pubblicati numerosi testi che offrono un'ottima introduzione all'inferenza bayesiana. Il materiale didattico usato in questo corso si ispira fortemente ai testi elencati di seguito.  Ad eccezione di quello di Richard McElreath, questi testi sono open source, quindi chiunque desideri approfondire l'argomento può consultarli facilmente.\n",
    "\n",
    "- [Bayes Rules! An Introduction to Applied Bayesian Modeling]( https://www.bayesrulesbook.com/index.html)\n",
    "- [Probability and Bayesian Modeling](https://bayesball.github.io/BOOK/probability-a-measurement-of-uncertainty.html)\n",
    "- [Statistical rethinking](https://xcelab.net/rm/statistical-rethinking/)\n",
    "- [Bayesian Modeling and Computation in Python](https://bayesiancomputationbook.com/welcome.html)\n"
   ]
  }
 ],
 "metadata": {
  "kernelspec": {
   "display_name": "bambi_env",
   "language": "python",
   "name": "python3"
  },
  "language_info": {
   "name": "python",
   "version": "3.8.15 (default, Nov 24 2022, 09:04:07) \n[Clang 14.0.6 ]"
  },
  "orig_nbformat": 4,
  "vscode": {
   "interpreter": {
    "hash": "e957f8d2d9272acec629608affb587206e5d92bb0d8d335f71da72c549770d8b"
   }
  }
 },
 "nbformat": 4,
 "nbformat_minor": 2
}
